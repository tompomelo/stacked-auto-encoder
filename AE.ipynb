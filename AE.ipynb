{
  "nbformat": 4,
  "nbformat_minor": 0,
  "metadata": {
    "colab": {
      "name": "AE.ipynb",
      "version": "0.3.2",
      "provenance": [],
      "collapsed_sections": [],
      "include_colab_link": true
    },
    "kernelspec": {
      "name": "python3",
      "display_name": "Python 3"
    }
  },
  "cells": [
    {
      "cell_type": "markdown",
      "metadata": {
        "id": "view-in-github",
        "colab_type": "text"
      },
      "source": [
        "<a href=\"https://colab.research.google.com/github/ziathak/stacked-auto-encoder/blob/master/AE.ipynb\" target=\"_parent\"><img src=\"https://colab.research.google.com/assets/colab-badge.svg\" alt=\"Open In Colab\"/></a>"
      ]
    },
    {
      "metadata": {
        "id": "Ici4HU8KAqI1",
        "colab_type": "code",
        "colab": {
          "base_uri": "https://localhost:8080/",
          "height": 204
        },
        "outputId": "21e52ef8-134d-4c09-b242-dd581572a957"
      },
      "cell_type": "code",
      "source": [
        "!pip3 install http://download.pytorch.org/whl/cu80/torch-0.3.0.post4-cp36-cp36m-linux_x86_64.whl \n"
      ],
      "execution_count": 2,
      "outputs": [
        {
          "output_type": "stream",
          "text": [
            "Collecting torch==0.3.0.post4 from http://download.pytorch.org/whl/cu80/torch-0.3.0.post4-cp36-cp36m-linux_x86_64.whl\n",
            "\u001b[?25l  Downloading http://download.pytorch.org/whl/cu80/torch-0.3.0.post4-cp36-cp36m-linux_x86_64.whl (592.3MB)\n",
            "\u001b[K    100% |████████████████████████████████| 592.3MB 103.4MB/s \n",
            "\u001b[?25hRequirement already satisfied: pyyaml in /usr/local/lib/python3.6/dist-packages (from torch==0.3.0.post4) (3.13)\n",
            "Requirement already satisfied: numpy in /usr/local/lib/python3.6/dist-packages (from torch==0.3.0.post4) (1.16.2)\n",
            "\u001b[31mfastai 1.0.51 has requirement torch>=1.0.0, but you'll have torch 0.3.0.post4 which is incompatible.\u001b[0m\n",
            "Installing collected packages: torch\n",
            "  Found existing installation: torch 1.0.1.post2\n",
            "    Uninstalling torch-1.0.1.post2:\n",
            "      Successfully uninstalled torch-1.0.1.post2\n",
            "Successfully installed torch-0.3.0.post4\n"
          ],
          "name": "stdout"
        }
      ]
    },
    {
      "metadata": {
        "id": "89qMvncjDWIj",
        "colab_type": "code",
        "colab": {
          "base_uri": "https://localhost:8080/",
          "height": 156
        },
        "outputId": "256b285e-6093-4597-e3f8-da4a5fd2b1a2"
      },
      "cell_type": "code",
      "source": [
        "!pip3 install torchvision\n"
      ],
      "execution_count": 3,
      "outputs": [
        {
          "output_type": "stream",
          "text": [
            "Requirement already satisfied: torchvision in /usr/local/lib/python3.6/dist-packages (0.2.2.post3)\n",
            "Requirement already satisfied: numpy in /usr/local/lib/python3.6/dist-packages (from torchvision) (1.16.2)\n",
            "Requirement already satisfied: pillow>=4.1.1 in /usr/local/lib/python3.6/dist-packages (from torchvision) (4.3.0)\n",
            "Requirement already satisfied: six in /usr/local/lib/python3.6/dist-packages (from torchvision) (1.11.0)\n",
            "Requirement already satisfied: torch in /usr/local/lib/python3.6/dist-packages (from torchvision) (0.3.0.post4)\n",
            "Requirement already satisfied: olefile in /usr/local/lib/python3.6/dist-packages (from pillow>=4.1.1->torchvision) (0.46)\n",
            "Requirement already satisfied: pyyaml in /usr/local/lib/python3.6/dist-packages (from torch->torchvision) (3.13)\n"
          ],
          "name": "stdout"
        }
      ]
    },
    {
      "metadata": {
        "id": "H9wEyoMODYjq",
        "colab_type": "code",
        "colab": {
          "base_uri": "https://localhost:8080/",
          "height": 122
        },
        "outputId": "4a8c4793-5a8a-4d56-a2c6-0d0d522be100"
      },
      "cell_type": "code",
      "source": [
        "from google.colab import drive\n",
        "drive.mount('/content/drive')"
      ],
      "execution_count": 4,
      "outputs": [
        {
          "output_type": "stream",
          "text": [
            "Go to this URL in a browser: https://accounts.google.com/o/oauth2/auth?client_id=947318989803-6bn6qk8qdgf4n4g3pfee6491hc0brc4i.apps.googleusercontent.com&redirect_uri=urn%3Aietf%3Awg%3Aoauth%3A2.0%3Aoob&scope=email%20https%3A%2F%2Fwww.googleapis.com%2Fauth%2Fdocs.test%20https%3A%2F%2Fwww.googleapis.com%2Fauth%2Fdrive%20https%3A%2F%2Fwww.googleapis.com%2Fauth%2Fdrive.photos.readonly%20https%3A%2F%2Fwww.googleapis.com%2Fauth%2Fpeopleapi.readonly&response_type=code\n",
            "\n",
            "Enter your authorization code:\n",
            "··········\n",
            "Mounted at /content/drive\n"
          ],
          "name": "stdout"
        }
      ]
    },
    {
      "metadata": {
        "id": "Et4gHPaCE5HV",
        "colab_type": "code",
        "colab": {}
      },
      "cell_type": "code",
      "source": [
        "#libraries\n",
        "\n",
        "import numpy as np\n",
        "import pandas as pd\n",
        "import torch\n",
        "import torch.nn as nn\n",
        "import torch.nn.parallel\n",
        "import torch.optim as optim\n",
        "import torch.utils.data\n",
        "from torch.autograd import Variable"
      ],
      "execution_count": 0,
      "outputs": []
    },
    {
      "metadata": {
        "id": "cQqdvUB7GoS3",
        "colab_type": "code",
        "colab": {}
      },
      "cell_type": "code",
      "source": [
        "#importing dataset\n",
        "movies = pd.read_csv('/content/drive/My Drive/AutoEncoders/ml-1m/ml-1m/movies.dat', sep ='::', header=None, engine='python', encoding='latin-1')"
      ],
      "execution_count": 0,
      "outputs": []
    },
    {
      "metadata": {
        "id": "j1j_yUHPj5Ek",
        "colab_type": "code",
        "colab": {
          "base_uri": "https://localhost:8080/",
          "height": 2176
        },
        "outputId": "333f0481-b7eb-403e-fd18-801d4113626e"
      },
      "cell_type": "code",
      "source": [
        "print(movies)"
      ],
      "execution_count": 8,
      "outputs": [
        {
          "output_type": "stream",
          "text": [
            "         0                                                  1  \\\n",
            "0        1                                   Toy Story (1995)   \n",
            "1        2                                     Jumanji (1995)   \n",
            "2        3                            Grumpier Old Men (1995)   \n",
            "3        4                           Waiting to Exhale (1995)   \n",
            "4        5                 Father of the Bride Part II (1995)   \n",
            "5        6                                        Heat (1995)   \n",
            "6        7                                     Sabrina (1995)   \n",
            "7        8                                Tom and Huck (1995)   \n",
            "8        9                                Sudden Death (1995)   \n",
            "9       10                                   GoldenEye (1995)   \n",
            "10      11                     American President, The (1995)   \n",
            "11      12                 Dracula: Dead and Loving It (1995)   \n",
            "12      13                                       Balto (1995)   \n",
            "13      14                                       Nixon (1995)   \n",
            "14      15                            Cutthroat Island (1995)   \n",
            "15      16                                      Casino (1995)   \n",
            "16      17                       Sense and Sensibility (1995)   \n",
            "17      18                                  Four Rooms (1995)   \n",
            "18      19              Ace Ventura: When Nature Calls (1995)   \n",
            "19      20                                 Money Train (1995)   \n",
            "20      21                                  Get Shorty (1995)   \n",
            "21      22                                     Copycat (1995)   \n",
            "22      23                                   Assassins (1995)   \n",
            "23      24                                      Powder (1995)   \n",
            "24      25                           Leaving Las Vegas (1995)   \n",
            "25      26                                     Othello (1995)   \n",
            "26      27                                Now and Then (1995)   \n",
            "27      28                                  Persuasion (1995)   \n",
            "28      29                  City of Lost Children, The (1995)   \n",
            "29      30  Shanghai Triad (Yao a yao yao dao waipo qiao) ...   \n",
            "...    ...                                                ...   \n",
            "3853  3923                           Return of the Fly (1959)   \n",
            "3854  3924                                Pajama Party (1964)   \n",
            "3855  3925                      Stranger Than Paradise (1984)   \n",
            "3856  3926             Voyage to the Bottom of the Sea (1961)   \n",
            "3857  3927                            Fantastic Voyage (1966)   \n",
            "3858  3928       Abbott and Costello Meet Frankenstein (1948)   \n",
            "3859  3929                              Bank Dick, The (1940)   \n",
            "3860  3930         Creature From the Black Lagoon, The (1954)   \n",
            "3861  3931                     Giant Gila Monster, The (1959)   \n",
            "3862  3932                          Invisible Man, The (1933)   \n",
            "3863  3933                          Killer Shrews, The (1959)   \n",
            "3864  3934                                      Kronos (1957)   \n",
            "3865  3935                                      Kronos (1973)   \n",
            "3866  3936                   Phantom of the Opera, The (1943)   \n",
            "3867  3937                                     Runaway (1984)   \n",
            "3868  3938                 Slumber Party Massacre, The (1982)   \n",
            "3869  3939              Slumber Party Massacre II, The (1987)   \n",
            "3870  3940             Slumber Party Massacre III, The (1990)   \n",
            "3871  3941                     Sorority House Massacre (1986)   \n",
            "3872  3942                  Sorority House Massacre II (1990)   \n",
            "3873  3943                                  Bamboozled (2000)   \n",
            "3874  3944                                     Bootmen (2000)   \n",
            "3875  3945                          Digimon: The Movie (2000)   \n",
            "3876  3946                                  Get Carter (2000)   \n",
            "3877  3947                                  Get Carter (1971)   \n",
            "3878  3948                            Meet the Parents (2000)   \n",
            "3879  3949                         Requiem for a Dream (2000)   \n",
            "3880  3950                                   Tigerland (2000)   \n",
            "3881  3951                            Two Family House (2000)   \n",
            "3882  3952                              Contender, The (2000)   \n",
            "\n",
            "                                   2  \n",
            "0        Animation|Children's|Comedy  \n",
            "1       Adventure|Children's|Fantasy  \n",
            "2                     Comedy|Romance  \n",
            "3                       Comedy|Drama  \n",
            "4                             Comedy  \n",
            "5              Action|Crime|Thriller  \n",
            "6                     Comedy|Romance  \n",
            "7               Adventure|Children's  \n",
            "8                             Action  \n",
            "9          Action|Adventure|Thriller  \n",
            "10              Comedy|Drama|Romance  \n",
            "11                     Comedy|Horror  \n",
            "12              Animation|Children's  \n",
            "13                             Drama  \n",
            "14          Action|Adventure|Romance  \n",
            "15                    Drama|Thriller  \n",
            "16                     Drama|Romance  \n",
            "17                          Thriller  \n",
            "18                            Comedy  \n",
            "19                            Action  \n",
            "20               Action|Comedy|Drama  \n",
            "21              Crime|Drama|Thriller  \n",
            "22                          Thriller  \n",
            "23                      Drama|Sci-Fi  \n",
            "24                     Drama|Romance  \n",
            "25                             Drama  \n",
            "26                             Drama  \n",
            "27                           Romance  \n",
            "28                  Adventure|Sci-Fi  \n",
            "29                             Drama  \n",
            "...                              ...  \n",
            "3853                   Horror|Sci-Fi  \n",
            "3854                          Comedy  \n",
            "3855                          Comedy  \n",
            "3856                Adventure|Sci-Fi  \n",
            "3857                Adventure|Sci-Fi  \n",
            "3858                   Comedy|Horror  \n",
            "3859                          Comedy  \n",
            "3860                          Horror  \n",
            "3861                   Horror|Sci-Fi  \n",
            "3862                   Horror|Sci-Fi  \n",
            "3863                   Horror|Sci-Fi  \n",
            "3864                          Sci-Fi  \n",
            "3865                          Horror  \n",
            "3866                  Drama|Thriller  \n",
            "3867                 Sci-Fi|Thriller  \n",
            "3868                          Horror  \n",
            "3869                          Horror  \n",
            "3870                          Horror  \n",
            "3871                          Horror  \n",
            "3872                          Horror  \n",
            "3873                          Comedy  \n",
            "3874                    Comedy|Drama  \n",
            "3875  Adventure|Animation|Children's  \n",
            "3876           Action|Drama|Thriller  \n",
            "3877                        Thriller  \n",
            "3878                          Comedy  \n",
            "3879                           Drama  \n",
            "3880                           Drama  \n",
            "3881                           Drama  \n",
            "3882                  Drama|Thriller  \n",
            "\n",
            "[3883 rows x 3 columns]\n"
          ],
          "name": "stdout"
        }
      ]
    }
  ]
}